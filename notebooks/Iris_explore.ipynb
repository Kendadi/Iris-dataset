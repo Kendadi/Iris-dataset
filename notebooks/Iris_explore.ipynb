{
 "cells": [
  {
   "cell_type": "code",
   "execution_count": 35,
   "id": "9d004a00-59fd-4c74-b2e3-613b3f41ca46",
   "metadata": {},
   "outputs": [],
   "source": [
    "from sklearn.model_selection import train_test_split, GridSearchCV,RandomizedSearchCV \n",
    "from sklearn import datasets\n",
    "from sklearn.ensemble import RandomForestClassifier\n",
    "import numpy as np\n",
    "import pickle as pkl"
   ]
  },
  {
   "cell_type": "code",
   "execution_count": null,
   "id": "aa2f82fd-5b57-4ddd-902e-ff2c1a0f4ede",
   "metadata": {},
   "outputs": [],
   "source": [
    "\n",
    "\n",
    "iris = datasets.load_iris()"
   ]
  },
  {
   "cell_type": "code",
   "execution_count": 5,
   "id": "54059ac0-de8b-4bbf-b43a-c122649305b7",
   "metadata": {},
   "outputs": [],
   "source": [
    "train_data = iris['data']\n",
    "label = iris['target']\n",
    "label_names = iris['target_names']"
   ]
  },
  {
   "cell_type": "code",
   "execution_count": 7,
   "id": "e5d2b924-4e4d-4c17-9fe0-40a2147e9478",
   "metadata": {},
   "outputs": [
    {
     "data": {
      "text/plain": [
       "(150, 4)"
      ]
     },
     "execution_count": 7,
     "metadata": {},
     "output_type": "execute_result"
    }
   ],
   "source": [
    "train_data.shape"
   ]
  },
  {
   "cell_type": "code",
   "execution_count": 14,
   "id": "7b832417-3703-46e0-a632-16269f0f584c",
   "metadata": {},
   "outputs": [],
   "source": [
    "X_train, X_test, y_train, y_test = train_test_split(train_data, label, stratify = label, random_state = 2024, test_size= 0.2)"
   ]
  },
  {
   "cell_type": "code",
   "execution_count": null,
   "id": "2d9b5af2-7ccb-4328-a576-1a0221c6dcc8",
   "metadata": {},
   "outputs": [],
   "source": []
  },
  {
   "cell_type": "code",
   "execution_count": 29,
   "id": "46f42ce3-bc1a-4a35-8e95-18b2f06b4615",
   "metadata": {},
   "outputs": [],
   "source": [
    "rfc_search_space = {\n",
    "    'n_estimators': range(1, 20),\n",
    "    'criterion': ['gini', 'entropy'],\n",
    "    'max_depth': range(1, 10),\n",
    "    'min_samples_split': range(2, 11),\n",
    "    'min_samples_leaf': range(1, 11),\n",
    "    'max_features': ['sqrt', 'log2', None],\n",
    "    'bootstrap': [True, False]\n",
    "}"
   ]
  },
  {
   "cell_type": "code",
   "execution_count": 30,
   "id": "b80e1255-5dc4-4b83-83f9-47eda593b8f0",
   "metadata": {},
   "outputs": [
    {
     "name": "stdout",
     "output_type": "stream",
     "text": [
      "RandomForestClassifier(criterion='entropy', max_depth=3, max_features='log2',\n",
      "                       min_samples_leaf=7, min_samples_split=4,\n",
      "                       n_estimators=22)\n"
     ]
    }
   ],
   "source": [
    "random_search = RandomizedSearchCV(RandomForestClassifier(), \n",
    "                           param_distributions=rfc_search_space, n_iter=100) \n",
    "random_search.fit(X_train, y_train) \n",
    "print(grid_search.best_estimator_)"
   ]
  },
  {
   "cell_type": "code",
   "execution_count": 31,
   "id": "f10d73cf-4ed7-4075-99a0-c9b36d40ea11",
   "metadata": {},
   "outputs": [
    {
     "name": "stdout",
     "output_type": "stream",
     "text": [
      "best params are : {'n_estimators': 1, 'min_samples_split': 10, 'min_samples_leaf': 7, 'max_features': 'log2', 'max_depth': 3, 'criterion': 'entropy', 'bootstrap': False} \n",
      "best score : 0.9666666666666666\n"
     ]
    }
   ],
   "source": [
    "print(f\"best params are : {random_search.best_params_} \")\n",
    "print(f\"best score : {random_search.best_score_}\")"
   ]
  },
  {
   "cell_type": "code",
   "execution_count": null,
   "id": "a0e9a95e-3867-4ade-9e55-bc162f3af300",
   "metadata": {},
   "outputs": [],
   "source": []
  },
  {
   "cell_type": "code",
   "execution_count": 32,
   "id": "43b4497f-bb2e-4a40-a83e-6e810724387d",
   "metadata": {},
   "outputs": [
    {
     "data": {
      "text/plain": [
       "RandomForestClassifier(bootstrap=False, criterion='entropy', max_depth=3,\n",
       "                       max_features='log2', min_samples_leaf=10,\n",
       "                       min_samples_split=10, n_estimators=1, random_state=2)"
      ]
     },
     "execution_count": 32,
     "metadata": {},
     "output_type": "execute_result"
    }
   ],
   "source": [
    "rdf = RandomForestClassifier(n_estimators=1, min_samples_split= 10,max_depth=3,max_features='log2', criterion = 'entropy',\n",
    "                             bootstrap = False, min_samples_leaf = 10, random_state=2)\n",
    "rdf.fit(X_train, y_train)"
   ]
  },
  {
   "cell_type": "code",
   "execution_count": 33,
   "id": "8dd41ff9-55a8-40ef-834f-9311761bdeaa",
   "metadata": {},
   "outputs": [],
   "source": [
    "predicted = rdf.predict(X_test)"
   ]
  },
  {
   "cell_type": "code",
   "execution_count": 37,
   "id": "3c091e08-9301-4168-92c8-40846f1aac4e",
   "metadata": {},
   "outputs": [
    {
     "data": {
      "text/plain": [
       "0.9666666666666667"
      ]
     },
     "execution_count": 37,
     "metadata": {},
     "output_type": "execute_result"
    }
   ],
   "source": [
    "np.mean(predicted == y_test)"
   ]
  },
  {
   "cell_type": "code",
   "execution_count": null,
   "id": "0f54a78c-1e15-48dc-bcdf-079b8ae8e062",
   "metadata": {},
   "outputs": [],
   "source": []
  },
  {
   "cell_type": "code",
   "execution_count": 44,
   "id": "88083ba6-7b1b-4495-a33e-4c2c5b40d766",
   "metadata": {},
   "outputs": [],
   "source": [
    "with open(\"../models/rdf.pkl\", \"wb\") as f : \n",
    "    pkl.dump(rdf, f)"
   ]
  },
  {
   "cell_type": "code",
   "execution_count": 46,
   "id": "33d662b2-d1fc-44ff-95e5-f597dbcb231a",
   "metadata": {},
   "outputs": [
    {
     "data": {
      "text/plain": [
       "array([0])"
      ]
     },
     "execution_count": 46,
     "metadata": {},
     "output_type": "execute_result"
    }
   ],
   "source": [
    "rdf.predict([[0,0,0,0]])"
   ]
  },
  {
   "cell_type": "code",
   "execution_count": null,
   "id": "ae89bbc8-1aea-4a82-bdcb-ee58c0b470f1",
   "metadata": {},
   "outputs": [],
   "source": []
  }
 ],
 "metadata": {
  "kernelspec": {
   "display_name": ".venv",
   "language": "python",
   "name": ".venv"
  },
  "language_info": {
   "codemirror_mode": {
    "name": "ipython",
    "version": 3
   },
   "file_extension": ".py",
   "mimetype": "text/x-python",
   "name": "python",
   "nbconvert_exporter": "python",
   "pygments_lexer": "ipython3",
   "version": "3.8.10"
  }
 },
 "nbformat": 4,
 "nbformat_minor": 5
}
